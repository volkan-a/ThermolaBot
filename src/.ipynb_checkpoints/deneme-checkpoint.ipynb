{
 "cells": [
  {
   "cell_type": "code",
   "execution_count": 7,
   "id": "17050f57",
   "metadata": {},
   "outputs": [],
   "source": [
    "import re"
   ]
  },
  {
   "cell_type": "code",
   "execution_count": 33,
   "id": "5fb0bace",
   "metadata": {},
   "outputs": [],
   "source": [
    "msg = \"enthalpy of water at 300 kPa pressure and 156 C temperature\".lower()"
   ]
  },
  {
   "cell_type": "code",
   "execution_count": 35,
   "id": "519f06f0",
   "metadata": {},
   "outputs": [
    {
     "ename": "ValueError",
     "evalue": "not enough values to unpack (expected 2, got 1)",
     "output_type": "error",
     "traceback": [
      "\u001b[0;31m---------------------------------------------------------------------------\u001b[0m",
      "\u001b[0;31mValueError\u001b[0m                                Traceback (most recent call last)",
      "\u001b[0;32m/var/folders/g4/z00rvlds1_v24qf3szxgh4fc0000gn/T/ipykernel_20275/730782148.py\u001b[0m in \u001b[0;36m<module>\u001b[0;34m\u001b[0m\n\u001b[0;32m----> 1\u001b[0;31m \u001b[0;34m[\u001b[0m\u001b[0mproperty\u001b[0m\u001b[0;34m,\u001b[0m \u001b[0mmsg\u001b[0m\u001b[0;34m]\u001b[0m \u001b[0;34m=\u001b[0m \u001b[0mre\u001b[0m\u001b[0;34m.\u001b[0m\u001b[0msplit\u001b[0m\u001b[0;34m(\u001b[0m\u001b[0;34mr'\\b(?:\\s+of\\s+)'\u001b[0m\u001b[0;34m,\u001b[0m \u001b[0mmsg\u001b[0m\u001b[0;34m)\u001b[0m\u001b[0;34m\u001b[0m\u001b[0;34m\u001b[0m\u001b[0m\n\u001b[0m",
      "\u001b[0;31mValueError\u001b[0m: not enough values to unpack (expected 2, got 1)"
     ]
    }
   ],
   "source": [
    "[property, msg] = re.split(r'\\b(?:\\s+of\\s+)', msg)"
   ]
  },
  {
   "cell_type": "markdown",
   "id": "237c89d2",
   "metadata": {},
   "source": [
    "msg.split(r'\\b(?:\\s+of\\s+)')"
   ]
  },
  {
   "cell_type": "markdown",
   "id": "402b4b2f",
   "metadata": {},
   "source": [
    "msg.split"
   ]
  },
  {
   "cell_type": "code",
   "execution_count": 16,
   "id": "863f568e",
   "metadata": {},
   "outputs": [
    {
     "data": {
      "text/plain": [
       "['enthalpy of water at 300 kpa pressure and 156 c temperature']"
      ]
     },
     "execution_count": 16,
     "metadata": {},
     "output_type": "execute_result"
    }
   ],
   "source": [
    "msg.split(r'\\b(?:\\s+of\\s+)')"
   ]
  },
  {
   "cell_type": "code",
   "execution_count": 22,
   "id": "ef719a77",
   "metadata": {},
   "outputs": [
    {
     "ename": "ValueError",
     "evalue": "not enough values to unpack (expected 2, got 1)",
     "output_type": "error",
     "traceback": [
      "\u001b[0;31m---------------------------------------------------------------------------\u001b[0m",
      "\u001b[0;31mValueError\u001b[0m                                Traceback (most recent call last)",
      "\u001b[0;32m/var/folders/g4/z00rvlds1_v24qf3szxgh4fc0000gn/T/ipykernel_20275/4294676299.py\u001b[0m in \u001b[0;36m<module>\u001b[0;34m\u001b[0m\n\u001b[1;32m      1\u001b[0m \u001b[0mmsg\u001b[0m \u001b[0;34m=\u001b[0m \u001b[0;34m\"enthalpay water at 300 kPa pressure and 156 C temperature\"\u001b[0m\u001b[0;34m\u001b[0m\u001b[0;34m\u001b[0m\u001b[0m\n\u001b[0;32m----> 2\u001b[0;31m \u001b[0;34m[\u001b[0m\u001b[0mproperty\u001b[0m\u001b[0;34m,\u001b[0m \u001b[0mrest\u001b[0m\u001b[0;34m]\u001b[0m \u001b[0;34m=\u001b[0m \u001b[0mre\u001b[0m\u001b[0;34m.\u001b[0m\u001b[0msplit\u001b[0m\u001b[0;34m(\u001b[0m\u001b[0;34mr'\\b(?:\\s+of\\s+)'\u001b[0m\u001b[0;34m,\u001b[0m \u001b[0mmsg\u001b[0m\u001b[0;34m)\u001b[0m\u001b[0;34m\u001b[0m\u001b[0;34m\u001b[0m\u001b[0m\n\u001b[0m\u001b[1;32m      3\u001b[0m \u001b[0mprint\u001b[0m\u001b[0;34m(\u001b[0m\u001b[0mproperty\u001b[0m\u001b[0;34m)\u001b[0m\u001b[0;34m\u001b[0m\u001b[0;34m\u001b[0m\u001b[0m\n\u001b[1;32m      4\u001b[0m \u001b[0mprint\u001b[0m\u001b[0;34m(\u001b[0m\u001b[0mrest\u001b[0m\u001b[0;34m)\u001b[0m\u001b[0;34m\u001b[0m\u001b[0;34m\u001b[0m\u001b[0m\n",
      "\u001b[0;31mValueError\u001b[0m: not enough values to unpack (expected 2, got 1)"
     ]
    }
   ],
   "source": [
    "msg = \"enthalpay water at 300 kPa pressure and 156 C temperature\"\n",
    "[property, rest] = re.split(r'\\b(?:\\s+of\\s+)', msg)\n",
    "print(property)\n",
    "print(rest)"
   ]
  },
  {
   "cell_type": "code",
   "execution_count": 24,
   "id": "fc46b68c",
   "metadata": {},
   "outputs": [],
   "source": [
    "import CoolProp as CP"
   ]
  },
  {
   "cell_type": "code",
   "execution_count": 25,
   "id": "bce77cdf",
   "metadata": {},
   "outputs": [
    {
     "data": {
      "text/plain": [
       "['D4',\n",
       " 'HydrogenSulfide',\n",
       " 'o-Xylene',\n",
       " 'R125',\n",
       " 'IsoButane',\n",
       " 'MDM',\n",
       " 'R245ca',\n",
       " 'Cyclopentane',\n",
       " 'p-Xylene',\n",
       " 'ParaHydrogen',\n",
       " 'MethylPalmitate',\n",
       " 'R41',\n",
       " 'SulfurDioxide',\n",
       " 'R236EA',\n",
       " 'R113',\n",
       " 'NitrousOxide',\n",
       " 'n-Propane',\n",
       " 'HeavyWater',\n",
       " 'Propylene',\n",
       " 'R143a',\n",
       " 'Xenon',\n",
       " 'R40',\n",
       " 'R1243zf',\n",
       " 'CycloHexane',\n",
       " 'R21',\n",
       " 'CarbonMonoxide',\n",
       " 'Oxygen',\n",
       " 'DiethylEther',\n",
       " 'R1234yf',\n",
       " 'R124',\n",
       " 'MD3M',\n",
       " 'D5',\n",
       " 'CarbonylSulfide',\n",
       " 'Ammonia',\n",
       " 'Fluorine',\n",
       " 'CycloPropane',\n",
       " 'R407C',\n",
       " 'CarbonDioxide',\n",
       " 'MD4M',\n",
       " 'Neon',\n",
       " 'R115',\n",
       " 'R123',\n",
       " 'R236FA',\n",
       " 'Ethane',\n",
       " 'n-Decane',\n",
       " 'MM',\n",
       " 'RC318',\n",
       " 'R410A',\n",
       " 'R245fa',\n",
       " 'n-Octane',\n",
       " 'MD2M',\n",
       " 'Isohexane',\n",
       " 'n-Pentane',\n",
       " 'DimethylEther',\n",
       " 'IsoButene',\n",
       " 'Isopentane',\n",
       " 'R114',\n",
       " 'R11',\n",
       " 'SES36',\n",
       " 'Water',\n",
       " 'EthyleneOxide',\n",
       " '1-Butene',\n",
       " 'trans-2-Butene',\n",
       " 'R142b',\n",
       " 'n-Heptane',\n",
       " 'Methane',\n",
       " 'n-Hexane',\n",
       " 'R12',\n",
       " 'R365MFC',\n",
       " 'MethylOleate',\n",
       " 'Deuterium',\n",
       " 'DimethylCarbonate',\n",
       " 'Novec649',\n",
       " 'MethylStearate',\n",
       " 'R32',\n",
       " 'R134a',\n",
       " 'n-Undecane',\n",
       " 'Helium',\n",
       " 'Toluene',\n",
       " 'R1233zd(E)',\n",
       " 'Hydrogen',\n",
       " 'R161',\n",
       " 'R227EA',\n",
       " 'R13',\n",
       " 'Methanol',\n",
       " 'ParaDeuterium',\n",
       " 'R507A',\n",
       " 'cis-2-Butene',\n",
       " 'MethylLinoleate',\n",
       " 'R116',\n",
       " 'R1234ze(E)',\n",
       " 'Acetone',\n",
       " 'OrthoDeuterium',\n",
       " 'R404A',\n",
       " 'MethylLinolenate',\n",
       " 'R22',\n",
       " 'm-Xylene',\n",
       " 'Benzene',\n",
       " 'Dichloroethane',\n",
       " 'Krypton',\n",
       " 'R141b',\n",
       " 'R218',\n",
       " 'D6',\n",
       " 'n-Dodecane',\n",
       " 'HFE143m',\n",
       " 'R14',\n",
       " 'Propyne',\n",
       " 'Ethanol',\n",
       " 'Argon',\n",
       " 'EthylBenzene',\n",
       " 'Air',\n",
       " 'n-Nonane',\n",
       " 'n-Butane',\n",
       " 'R152A',\n",
       " 'SulfurHexafluoride',\n",
       " 'HydrogenChloride',\n",
       " 'Nitrogen',\n",
       " 'R13I1',\n",
       " 'Neopentane',\n",
       " 'Ethylene',\n",
       " 'R1234ze(Z)',\n",
       " 'R23',\n",
       " 'OrthoHydrogen']"
      ]
     },
     "execution_count": 25,
     "metadata": {},
     "output_type": "execute_result"
    }
   ],
   "source": [
    "CP.CoolProp.FluidsList()"
   ]
  },
  {
   "cell_type": "code",
   "execution_count": 26,
   "id": "9c34171d",
   "metadata": {},
   "outputs": [],
   "source": [
    "fl:[str] = CP.CoolProp.FluidsList()"
   ]
  },
  {
   "cell_type": "code",
   "execution_count": 27,
   "id": "f23eb4fe",
   "metadata": {},
   "outputs": [
    {
     "data": {
      "text/plain": [
       "0"
      ]
     },
     "execution_count": 27,
     "metadata": {},
     "output_type": "execute_result"
    }
   ],
   "source": [
    "fl.count(\"water\".casefold())"
   ]
  },
  {
   "cell_type": "code",
   "execution_count": 29,
   "id": "c61b6467",
   "metadata": {},
   "outputs": [
    {
     "data": {
      "text/plain": [
       "'water'"
      ]
     },
     "execution_count": 29,
     "metadata": {},
     "output_type": "execute_result"
    }
   ],
   "source": [
    "\"Water\"."
   ]
  },
  {
   "cell_type": "code",
   "execution_count": 31,
   "id": "9d01932c",
   "metadata": {},
   "outputs": [
    {
     "ename": "ValueError",
     "evalue": "Neither input to Props1SI [r134a,PMIN] is a valid fluid :: inputs were :\"PMIN\",\"r134a\"",
     "output_type": "error",
     "traceback": [
      "\u001b[0;31m---------------------------------------------------------------------------\u001b[0m",
      "\u001b[0;31mValueError\u001b[0m                                Traceback (most recent call last)",
      "\u001b[0;32m/var/folders/g4/z00rvlds1_v24qf3szxgh4fc0000gn/T/ipykernel_20275/837425449.py\u001b[0m in \u001b[0;36m<module>\u001b[0;34m\u001b[0m\n\u001b[0;32m----> 1\u001b[0;31m \u001b[0mCP\u001b[0m\u001b[0;34m.\u001b[0m\u001b[0mCoolProp\u001b[0m\u001b[0;34m.\u001b[0m\u001b[0mPropsSI\u001b[0m\u001b[0;34m(\u001b[0m\u001b[0;34m\"PMIN\"\u001b[0m\u001b[0;34m,\u001b[0m\u001b[0;34m\"r134a\"\u001b[0m\u001b[0;34m)\u001b[0m\u001b[0;34m\u001b[0m\u001b[0;34m\u001b[0m\u001b[0m\n\u001b[0m",
      "\u001b[0;32mCoolProp/CoolProp.pyx\u001b[0m in \u001b[0;36mCoolProp.CoolProp.PropsSI\u001b[0;34m()\u001b[0m\n",
      "\u001b[0;32mCoolProp/CoolProp.pyx\u001b[0m in \u001b[0;36mCoolProp.CoolProp.PropsSI\u001b[0;34m()\u001b[0m\n",
      "\u001b[0;32mCoolProp/CoolProp.pyx\u001b[0m in \u001b[0;36mCoolProp.CoolProp.__Props_err1\u001b[0;34m()\u001b[0m\n",
      "\u001b[0;31mValueError\u001b[0m: Neither input to Props1SI [r134a,PMIN] is a valid fluid :: inputs were :\"PMIN\",\"r134a\""
     ]
    }
   ],
   "source": [
    "CP.CoolProp.PropsSI(\"PMIN\",\"r134a\")"
   ]
  },
  {
   "cell_type": "code",
   "execution_count": null,
   "id": "ca25ff38",
   "metadata": {},
   "outputs": [],
   "source": []
  }
 ],
 "metadata": {
  "kernelspec": {
   "display_name": "Python 3 (ipykernel)",
   "language": "python",
   "name": "python3"
  },
  "language_info": {
   "codemirror_mode": {
    "name": "ipython",
    "version": 3
   },
   "file_extension": ".py",
   "mimetype": "text/x-python",
   "name": "python",
   "nbconvert_exporter": "python",
   "pygments_lexer": "ipython3",
   "version": "3.10.1"
  }
 },
 "nbformat": 4,
 "nbformat_minor": 5
}

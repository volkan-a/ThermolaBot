{
 "cells": [
  {
   "cell_type": "code",
   "execution_count": 40,
   "id": "0ed73c2b",
   "metadata": {},
   "outputs": [],
   "source": [
    "import re"
   ]
  },
  {
   "cell_type": "code",
   "execution_count": 41,
   "id": "b6275c89",
   "metadata": {},
   "outputs": [],
   "source": [
    "msg = \"enthalpy of water at 300 kPa pressure and 156 C temperature\".lower()"
   ]
  },
  {
   "cell_type": "code",
   "execution_count": 42,
   "id": "57c13936",
   "metadata": {},
   "outputs": [
    {
     "name": "stdout",
     "output_type": "stream",
     "text": [
      "enthalpy\n",
      "water at 300 kpa pressure and 156 c temperature\n"
     ]
    }
   ],
   "source": [
    "[property, msg] = re.split(r'\\b(?:\\s+of\\s+)', msg)\n",
    "print(property)\n",
    "print(msg)"
   ]
  },
  {
   "cell_type": "code",
   "execution_count": 43,
   "id": "420ec993",
   "metadata": {},
   "outputs": [
    {
     "name": "stdout",
     "output_type": "stream",
     "text": [
      "water\n",
      "300 kpa pressure and 156 c temperature\n"
     ]
    }
   ],
   "source": [
    "[fluid, msg] = re.split(r'\\b(?:\\s+at\\s+)', msg)\n",
    "print(fluid)\n",
    "print(msg)"
   ]
  },
  {
   "cell_type": "code",
   "execution_count": 44,
   "id": "999ca2d0",
   "metadata": {},
   "outputs": [
    {
     "name": "stdout",
     "output_type": "stream",
     "text": [
      "300 kpa pressure\n",
      "156 c temperature\n"
     ]
    }
   ],
   "source": [
    "[prop1, prop2] = re.split(r'\\b(?:\\s+and\\s+)', msg)\n",
    "print(prop1)\n",
    "print(prop2)"
   ]
  },
  {
   "cell_type": "code",
   "execution_count": 24,
   "id": "6707dbf2",
   "metadata": {},
   "outputs": [],
   "source": [
    "import CoolProp as CP"
   ]
  },
  {
   "cell_type": "code",
   "execution_count": 102,
   "id": "e88862f8",
   "metadata": {},
   "outputs": [
    {
     "name": "stdout",
     "output_type": "stream",
     "text": [
      "ALTERNATIVE_REFPROP_HMX_BNC_PATH\n",
      "ALTERNATIVE_REFPROP_LIBRARY_PATH\n",
      "ALTERNATIVE_REFPROP_PATH\n",
      "ALTERNATIVE_TABLES_DIRECTORY\n",
      "ASSUME_CRITICAL_POINT_STABLE\n",
      "AbstractState\n",
      "CRITICAL_SPLINES_ENABLED\n",
      "CRITICAL_WITHIN_1UK\n",
      "CoolProp\n",
      "DONT_CHECK_PROPERTY_LIMITS\n",
      "DmassHmass_INPUTS\n",
      "DmassP_INPUTS\n",
      "DmassQ_INPUTS\n",
      "DmassSmass_INPUTS\n",
      "DmassT_INPUTS\n",
      "DmassUmass_INPUTS\n",
      "DmolarHmolar_INPUTS\n",
      "DmolarP_INPUTS\n",
      "DmolarQ_INPUTS\n",
      "DmolarSmolar_INPUTS\n",
      "DmolarT_INPUTS\n",
      "DmolarUmolar_INPUTS\n",
      "FLOAT_PUNCTUATION\n",
      "FLUID_TYPE_INCOMPRESSIBLE_LIQUID\n",
      "FLUID_TYPE_INCOMPRESSIBLE_SOLUTION\n",
      "FLUID_TYPE_PSEUDOPURE\n",
      "FLUID_TYPE_PURE\n",
      "FLUID_TYPE_REFPROP\n",
      "FLUID_TYPE_UNDEFINED\n",
      "HENRYS_LAW_TO_GENERATE_VLE_GUESSES\n",
      "HmassP_INPUTS\n",
      "HmassQ_INPUTS\n",
      "HmassSmass_INPUTS\n",
      "HmassT_INPUTS\n",
      "HmolarP_INPUTS\n",
      "HmolarQ_INPUTS\n",
      "HmolarSmolar_INPUTS\n",
      "HmolarT_INPUTS\n",
      "HumidAirProp\n",
      "INPUT_PAIR_INVALID\n",
      "INVALID_PARAMETER\n",
      "LIST_STRING_DELIMITER\n",
      "MAXIMUM_TABLE_DIRECTORY_SIZE_IN_GB\n",
      "NORMALIZE_GAS_CONSTANTS\n",
      "OVERWRITE_BINARY_INTERACTION\n",
      "OVERWRITE_DEPARTURE_FUNCTION\n",
      "OVERWRITE_FLUIDS\n",
      "PHASE_ENVELOPE_STARTING_PRESSURE_PA\n",
      "PQ_INPUTS\n",
      "PSmass_INPUTS\n",
      "PSmolar_INPUTS\n",
      "PT_INPUTS\n",
      "PUmass_INPUTS\n",
      "PUmolar_INPUTS\n",
      "QSmass_INPUTS\n",
      "QSmolar_INPUTS\n",
      "QT_INPUTS\n",
      "REFPROP_DONT_ESTIMATE_INTERACTION_PARAMETERS\n",
      "REFPROP_ERROR_THRESHOLD\n",
      "REFPROP_IGNORE_ERROR_ESTIMATED_INTERACTION_PARAMETERS\n",
      "REFPROP_USE_GERG\n",
      "REFPROP_USE_PENGROBINSON\n",
      "R_U_CODATA\n",
      "SAVE_RAW_TABLES\n",
      "SPINODAL_MINIMUM_DELTA\n",
      "SmassT_INPUTS\n",
      "SmassUmass_INPUTS\n",
      "SmolarT_INPUTS\n",
      "SmolarUmolar_INPUTS\n",
      "State\n",
      "TUmass_INPUTS\n",
      "TUmolar_INPUTS\n",
      "USE_GUESSES_IN_PROPSSI\n",
      "VTPR_ALWAYS_RELOAD_LIBRARY\n",
      "VTPR_UNIFAC_PATH\n",
      "__builtins__\n",
      "__cached__\n",
      "__doc__\n",
      "__file__\n",
      "__fluids__\n",
      "__gitrevision__\n",
      "__incompressibles_pure__\n",
      "__incompressibles_solution__\n",
      "__loader__\n",
      "__name__\n",
      "__package__\n",
      "__path__\n",
      "__spec__\n",
      "__version__\n",
      "_constants\n",
      "absolute_import\n",
      "constants\n",
      "copy_BibTeX_library\n",
      "get\n",
      "get_include_directory\n",
      "iBvirial\n",
      "iCp0mass\n",
      "iCp0molar\n",
      "iCpmass\n",
      "iCpmolar\n",
      "iCvirial\n",
      "iCvmass\n",
      "iCvmolar\n",
      "iDelta\n",
      "iDmass\n",
      "iDmolar\n",
      "iFH\n",
      "iGWP100\n",
      "iGWP20\n",
      "iGWP500\n",
      "iGmass\n",
      "iGmolar\n",
      "iGmolar_residual\n",
      "iHH\n",
      "iHelmholtzmass\n",
      "iHelmholtzmolar\n",
      "iHmass\n",
      "iHmolar\n",
      "iHmolar_residual\n",
      "iODP\n",
      "iP\n",
      "iPH\n",
      "iPIP\n",
      "iP_critical\n",
      "iP_max\n",
      "iP_min\n",
      "iP_reducing\n",
      "iP_triple\n",
      "iPhase\n",
      "iPrandtl\n",
      "iQ\n",
      "iSmass\n",
      "iSmolar\n",
      "iSmolar_residual\n",
      "iT\n",
      "iT_critical\n",
      "iT_freeze\n",
      "iT_max\n",
      "iT_min\n",
      "iT_reducing\n",
      "iT_triple\n",
      "iTau\n",
      "iUmass\n",
      "iUmolar\n",
      "iZ\n",
      "iacentric_factor\n",
      "ialpha0\n",
      "ialphar\n",
      "iconductivity\n",
      "idBvirial_dT\n",
      "idCvirial_dT\n",
      "idalpha0_ddelta_consttau\n",
      "idalpha0_dtau_constdelta\n",
      "idalphar_ddelta_consttau\n",
      "idalphar_dtau_constdelta\n",
      "idipole_moment\n",
      "ifraction_max\n",
      "ifraction_min\n",
      "ifundamental_derivative_of_gas_dynamics\n",
      "igas_constant\n",
      "iisentropic_expansion_coefficient\n",
      "iisobaric_expansion_coefficient\n",
      "iisothermal_compressibility\n",
      "imolar_mass\n",
      "iphase_critical_point\n",
      "iphase_gas\n",
      "iphase_liquid\n",
      "iphase_not_imposed\n",
      "iphase_supercritical\n",
      "iphase_supercritical_gas\n",
      "iphase_supercritical_liquid\n",
      "iphase_twophase\n",
      "iphase_unknown\n",
      "irhomass_critical\n",
      "irhomass_reducing\n",
      "irhomolar_critical\n",
      "irhomolar_reducing\n",
      "ispeed_sound\n",
      "isurface_tension\n",
      "iundefined_parameter\n",
      "iviscosity\n",
      "test\n"
     ]
    }
   ],
   "source": [
    "for d in dir(CP):\n",
    "    print(d)"
   ]
  },
  {
   "cell_type": "code",
   "execution_count": 26,
   "id": "ba728408",
   "metadata": {},
   "outputs": [],
   "source": [
    "fl:[str] = CP.CoolProp.FluidsList()"
   ]
  },
  {
   "cell_type": "code",
   "execution_count": 27,
   "id": "521f544a",
   "metadata": {},
   "outputs": [
    {
     "data": {
      "text/plain": [
       "0"
      ]
     },
     "execution_count": 27,
     "metadata": {},
     "output_type": "execute_result"
    }
   ],
   "source": [
    "fl.count(\"water\".casefold())"
   ]
  },
  {
   "cell_type": "code",
   "execution_count": 29,
   "id": "6dcd898b",
   "metadata": {},
   "outputs": [
    {
     "data": {
      "text/plain": [
       "'water'"
      ]
     },
     "execution_count": 29,
     "metadata": {},
     "output_type": "execute_result"
    }
   ],
   "source": [
    "\"Water\"."
   ]
  },
  {
   "cell_type": "code",
   "execution_count": 31,
   "id": "3ef9f850",
   "metadata": {},
   "outputs": [
    {
     "ename": "ValueError",
     "evalue": "Neither input to Props1SI [r134a,PMIN] is a valid fluid :: inputs were :\"PMIN\",\"r134a\"",
     "output_type": "error",
     "traceback": [
      "\u001b[0;31m---------------------------------------------------------------------------\u001b[0m",
      "\u001b[0;31mValueError\u001b[0m                                Traceback (most recent call last)",
      "\u001b[0;32m/var/folders/g4/z00rvlds1_v24qf3szxgh4fc0000gn/T/ipykernel_20275/837425449.py\u001b[0m in \u001b[0;36m<module>\u001b[0;34m\u001b[0m\n\u001b[0;32m----> 1\u001b[0;31m \u001b[0mCP\u001b[0m\u001b[0;34m.\u001b[0m\u001b[0mCoolProp\u001b[0m\u001b[0;34m.\u001b[0m\u001b[0mPropsSI\u001b[0m\u001b[0;34m(\u001b[0m\u001b[0;34m\"PMIN\"\u001b[0m\u001b[0;34m,\u001b[0m\u001b[0;34m\"r134a\"\u001b[0m\u001b[0;34m)\u001b[0m\u001b[0;34m\u001b[0m\u001b[0;34m\u001b[0m\u001b[0m\n\u001b[0m",
      "\u001b[0;32mCoolProp/CoolProp.pyx\u001b[0m in \u001b[0;36mCoolProp.CoolProp.PropsSI\u001b[0;34m()\u001b[0m\n",
      "\u001b[0;32mCoolProp/CoolProp.pyx\u001b[0m in \u001b[0;36mCoolProp.CoolProp.PropsSI\u001b[0;34m()\u001b[0m\n",
      "\u001b[0;32mCoolProp/CoolProp.pyx\u001b[0m in \u001b[0;36mCoolProp.CoolProp.__Props_err1\u001b[0;34m()\u001b[0m\n",
      "\u001b[0;31mValueError\u001b[0m: Neither input to Props1SI [r134a,PMIN] is a valid fluid :: inputs were :\"PMIN\",\"r134a\""
     ]
    }
   ],
   "source": [
    "CP.CoolProp.PropsSI(\"PMIN\",\"r134a\")"
   ]
  },
  {
   "cell_type": "code",
   "execution_count": 45,
   "id": "607229fb",
   "metadata": {},
   "outputs": [],
   "source": [
    "PROPERTIES = {\n",
    "    \"Temperature\": \"T\",\n",
    "    \"Pressure\": \"P\",\n",
    "    \"Density\": \"D\",\n",
    "    \"Specific Volume\": \"V\",\n",
    "    \"Specific Enthalpy\": \"H\",\n",
    "    \"Specific Entropy\": \"S\",\n",
    "    \"Specific Internal Energy\": \"U\",\n",
    "    \"Vapor Quality\": \"Q\",\n",
    "    \"Vapor Fraction\": \"Q\",\n",
    "}"
   ]
  },
  {
   "cell_type": "code",
   "execution_count": 47,
   "id": "88b3e42e",
   "metadata": {},
   "outputs": [
    {
     "name": "stdout",
     "output_type": "stream",
     "text": [
      "Temperature\n",
      "Pressure\n",
      "Density\n",
      "Specific Volume\n",
      "Specific Enthalpy\n",
      "Specific Entropy\n",
      "Specific Internal Energy\n",
      "Vapor Quality\n",
      "Vapor Fraction\n"
     ]
    }
   ],
   "source": [
    "for p in PROPERTIES.keys():\n",
    "    print(p)"
   ]
  },
  {
   "cell_type": "code",
   "execution_count": 48,
   "id": "a3d81838",
   "metadata": {},
   "outputs": [],
   "source": [
    "a=[None, 1, 2, None]\n"
   ]
  },
  {
   "cell_type": "code",
   "execution_count": 49,
   "id": "08dd4299",
   "metadata": {},
   "outputs": [
    {
     "data": {
      "text/plain": [
       "False"
      ]
     },
     "execution_count": 49,
     "metadata": {},
     "output_type": "execute_result"
    }
   ],
   "source": [
    "a is None"
   ]
  },
  {
   "cell_type": "code",
   "execution_count": 50,
   "id": "e64e52eb",
   "metadata": {},
   "outputs": [
    {
     "data": {
      "text/plain": [
       "2"
      ]
     },
     "execution_count": 50,
     "metadata": {},
     "output_type": "execute_result"
    }
   ],
   "source": [
    "a.count(None)"
   ]
  },
  {
   "cell_type": "code",
   "execution_count": 52,
   "id": "62e25376",
   "metadata": {},
   "outputs": [],
   "source": [
    "a=[None,None,None,None]"
   ]
  },
  {
   "cell_type": "markdown",
   "id": "2049ba44",
   "metadata": {},
   "source": [
    "!pip install pint"
   ]
  },
  {
   "cell_type": "code",
   "execution_count": 62,
   "id": "82a90bab",
   "metadata": {},
   "outputs": [
    {
     "name": "stdout",
     "output_type": "stream",
     "text": [
      "Collecting unyt\n",
      "  Downloading unyt-2.8.0-py2.py3-none-any.whl (98 kB)\n",
      "     |████████████████████████████████| 98 kB 978 kB/s            \n",
      "\u001b[?25hCollecting sympy>=1.2\n",
      "  Downloading sympy-1.9-py3-none-any.whl (6.2 MB)\n",
      "     |████████████████████████████████| 6.2 MB 363 kB/s            \n",
      "\u001b[?25hRequirement already satisfied: numpy>=\"1.13.0\" in /Users/volkanakkaya/my_python/lib/python3.10/site-packages (from unyt) (1.21.5)\n",
      "Collecting mpmath>=0.19\n",
      "  Downloading mpmath-1.2.1-py3-none-any.whl (532 kB)\n",
      "     |████████████████████████████████| 532 kB 12.9 MB/s            \n",
      "\u001b[?25hInstalling collected packages: mpmath, sympy, unyt\n",
      "Successfully installed mpmath-1.2.1 sympy-1.9 unyt-2.8.0\n"
     ]
    }
   ],
   "source": [
    "!pip install unyt"
   ]
  },
  {
   "cell_type": "code",
   "execution_count": 72,
   "id": "b05ce3b0",
   "metadata": {},
   "outputs": [],
   "source": [
    "import unyt"
   ]
  },
  {
   "cell_type": "code",
   "execution_count": 80,
   "id": "ebc78f63",
   "metadata": {},
   "outputs": [
    {
     "name": "stdout",
     "output_type": "stream",
     "text": [
      "373.15 K\n"
     ]
    }
   ],
   "source": [
    "print((100*unyt.Celsius).to(\"K\"))"
   ]
  },
  {
   "cell_type": "code",
   "execution_count": 57,
   "id": "f1761b2d",
   "metadata": {},
   "outputs": [
    {
     "data": {
      "text/plain": [
       "['__class__',\n",
       " '__delattr__',\n",
       " '__dict__',\n",
       " '__dir__',\n",
       " '__doc__',\n",
       " '__eq__',\n",
       " '__format__',\n",
       " '__ge__',\n",
       " '__getattribute__',\n",
       " '__gt__',\n",
       " '__hash__',\n",
       " '__init__',\n",
       " '__init_subclass__',\n",
       " '__le__',\n",
       " '__lt__',\n",
       " '__module__',\n",
       " '__ne__',\n",
       " '__new__',\n",
       " '__reduce__',\n",
       " '__reduce_ex__',\n",
       " '__repr__',\n",
       " '__setattr__',\n",
       " '__sizeof__',\n",
       " '__str__',\n",
       " '__subclasshook__',\n",
       " '__weakref__',\n",
       " 'from_reference',\n",
       " 'is_logarithmic',\n",
       " 'is_multiplicative',\n",
       " 'to_reference']"
      ]
     },
     "execution_count": 57,
     "metadata": {},
     "output_type": "execute_result"
    }
   ],
   "source": [
    "dir(a)"
   ]
  },
  {
   "cell_type": "code",
   "execution_count": 81,
   "id": "6dc60176",
   "metadata": {},
   "outputs": [],
   "source": [
    "from pint import UnitRegistry"
   ]
  },
  {
   "cell_type": "code",
   "execution_count": 82,
   "id": "d8c0a145",
   "metadata": {},
   "outputs": [],
   "source": [
    "ureg = UnitRegistry()"
   ]
  },
  {
   "cell_type": "code",
   "execution_count": 83,
   "id": "251edb27",
   "metadata": {},
   "outputs": [],
   "source": [
    "val = 1.0*ureg.joule/ureg.kilogram"
   ]
  },
  {
   "cell_type": "code",
   "execution_count": 85,
   "id": "090c701e",
   "metadata": {},
   "outputs": [
    {
     "data": {
      "text/html": [
       "0.001 joule/gram"
      ],
      "text/latex": [
       "$0.001\\ \\frac{\\mathrm{joule}}{\\mathrm{gram}}$"
      ],
      "text/plain": [
       "0.001 <Unit('joule / gram')>"
      ]
     },
     "execution_count": 85,
     "metadata": {},
     "output_type": "execute_result"
    }
   ],
   "source": [
    "val.to(ureg.joule/ureg.gram)"
   ]
  },
  {
   "cell_type": "code",
   "execution_count": 86,
   "id": "7137895c",
   "metadata": {},
   "outputs": [],
   "source": [
    "val =1.0*ureg(\"kJ/kg\")"
   ]
  },
  {
   "cell_type": "code",
   "execution_count": 90,
   "id": "bf13826c",
   "metadata": {},
   "outputs": [
    {
     "data": {
      "text/html": [
       "1000.0 joule/kilogram"
      ],
      "text/latex": [
       "$1000.0\\ \\frac{\\mathrm{joule}}{\\mathrm{kilogram}}$"
      ],
      "text/plain": [
       "1000.0 <Unit('joule / kilogram')>"
      ]
     },
     "execution_count": 90,
     "metadata": {},
     "output_type": "execute_result"
    }
   ],
   "source": [
    "val.to(ureg.joule/ureg.kilogram)"
   ]
  },
  {
   "cell_type": "code",
   "execution_count": 96,
   "id": "75c0dcae",
   "metadata": {},
   "outputs": [
    {
     "ename": "AttributeError",
     "evalue": "'NoneType' object has no attribute 'evaluate'",
     "output_type": "error",
     "traceback": [
      "\u001b[0;31m---------------------------------------------------------------------------\u001b[0m",
      "\u001b[0;31mAttributeError\u001b[0m                            Traceback (most recent call last)",
      "\u001b[0;32m/var/folders/g4/z00rvlds1_v24qf3szxgh4fc0000gn/T/ipykernel_20275/2528825055.py\u001b[0m in \u001b[0;36m<module>\u001b[0;34m\u001b[0m\n\u001b[0;32m----> 1\u001b[0;31m \u001b[0mval\u001b[0m \u001b[0;34m=\u001b[0m \u001b[0;36m1.0\u001b[0m\u001b[0;34m*\u001b[0m\u001b[0mureg\u001b[0m\u001b[0;34m(\u001b[0m\u001b[0;34m\"%\"\u001b[0m\u001b[0;34m)\u001b[0m\u001b[0;34m\u001b[0m\u001b[0;34m\u001b[0m\u001b[0m\n\u001b[0m",
      "\u001b[0;32m~/my_python/lib/python3.10/site-packages/pint/registry.py\u001b[0m in \u001b[0;36mparse_expression\u001b[0;34m(self, input_string, case_sensitive, use_decimal, **values)\u001b[0m\n\u001b[1;32m   1338\u001b[0m         \u001b[0mgen\u001b[0m \u001b[0;34m=\u001b[0m \u001b[0mtokenizer\u001b[0m\u001b[0;34m(\u001b[0m\u001b[0minput_string\u001b[0m\u001b[0;34m)\u001b[0m\u001b[0;34m\u001b[0m\u001b[0;34m\u001b[0m\u001b[0m\n\u001b[1;32m   1339\u001b[0m \u001b[0;34m\u001b[0m\u001b[0m\n\u001b[0;32m-> 1340\u001b[0;31m         return build_eval_tree(gen).evaluate(\n\u001b[0m\u001b[1;32m   1341\u001b[0m             \u001b[0;32mlambda\u001b[0m \u001b[0mx\u001b[0m\u001b[0;34m:\u001b[0m \u001b[0mself\u001b[0m\u001b[0;34m.\u001b[0m\u001b[0m_eval_token\u001b[0m\u001b[0;34m(\u001b[0m\u001b[0mx\u001b[0m\u001b[0;34m,\u001b[0m \u001b[0mcase_sensitive\u001b[0m\u001b[0;34m=\u001b[0m\u001b[0mcase_sensitive\u001b[0m\u001b[0;34m,\u001b[0m \u001b[0;34m**\u001b[0m\u001b[0mvalues\u001b[0m\u001b[0;34m)\u001b[0m\u001b[0;34m\u001b[0m\u001b[0;34m\u001b[0m\u001b[0m\n\u001b[1;32m   1342\u001b[0m         )\n",
      "\u001b[0;31mAttributeError\u001b[0m: 'NoneType' object has no attribute 'evaluate'"
     ]
    }
   ],
   "source": [
    "val = 1.0*ureg(\"%\")"
   ]
  },
  {
   "cell_type": "code",
   "execution_count": 93,
   "id": "f76199ec",
   "metadata": {},
   "outputs": [
    {
     "data": {
      "text/html": [
       "1000.0 gram/meter<sup>3</sup>"
      ],
      "text/latex": [
       "$1000.0\\ \\frac{\\mathrm{gram}}{\\mathrm{meter}^{3}}$"
      ],
      "text/plain": [
       "1000.0 <Unit('gram / meter ** 3')>"
      ]
     },
     "execution_count": 93,
     "metadata": {},
     "output_type": "execute_result"
    }
   ],
   "source": [
    "val.to(ureg.gram/ureg.m**3)"
   ]
  },
  {
   "cell_type": "code",
   "execution_count": null,
   "id": "98d43e41",
   "metadata": {},
   "outputs": [],
   "source": []
  }
 ],
 "metadata": {
  "kernelspec": {
   "display_name": "Python 3 (ipykernel)",
   "language": "python",
   "name": "python3"
  },
  "language_info": {
   "codemirror_mode": {
    "name": "ipython",
    "version": 3
   },
   "file_extension": ".py",
   "mimetype": "text/x-python",
   "name": "python",
   "nbconvert_exporter": "python",
   "pygments_lexer": "ipython3",
   "version": "3.10.1"
  }
 },
 "nbformat": 4,
 "nbformat_minor": 5
}
